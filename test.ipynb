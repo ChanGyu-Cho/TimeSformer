{
 "cells": [
  {
   "cell_type": "code",
   "execution_count": 22,
   "id": "e19a5e3b",
   "metadata": {},
   "outputs": [
    {
     "name": "stdout",
     "output_type": "stream",
     "text": [
      "Predicted class index: 372, name: playing tennis\n"
     ]
    }
   ],
   "source": [
    "import cv2\n",
    "import torch\n",
    "import numpy as np\n",
    "from timesformer.models.vit import TimeSformer\n",
    "\n",
    "model = TimeSformer(\n",
    "    img_size=224,\n",
    "    num_classes=600,  # 변경됨\n",
    "    num_frames=8,\n",
    "    attention_type='divided_space_time',\n",
    "    pretrained_model='TimeSformer_divST_96x4_224_K600.pyth'\n",
    ")\n",
    "model.eval()\n",
    "\n",
    "device = torch.device('cuda' if torch.cuda.is_available() else 'cpu')\n",
    "model.to(device)\n",
    "\n",
    "def load_video_frames(video_path, num_frames=8, resize=(224,224)):\n",
    "    cap = cv2.VideoCapture(video_path)\n",
    "    total_frames = int(cap.get(cv2.CAP_PROP_FRAME_COUNT))\n",
    "    \n",
    "    if total_frames == 0:\n",
    "        raise ValueError(\"Could not read video or video has no frames.\")\n",
    "    \n",
    "    frame_indices = np.linspace(0, total_frames-1, num_frames).astype(int)\n",
    "    \n",
    "    frames = []\n",
    "    for i in range(total_frames):\n",
    "        ret, frame = cap.read()\n",
    "        if not ret:\n",
    "            break\n",
    "        if i in frame_indices:\n",
    "            frame = cv2.cvtColor(frame, cv2.COLOR_BGR2RGB)\n",
    "            frame = cv2.resize(frame, resize)\n",
    "            frames.append(frame)\n",
    "    cap.release()\n",
    "    \n",
    "    if len(frames) < num_frames:\n",
    "        print(f\"Warning: only {len(frames)} frames extracted, expected {num_frames}\")\n",
    "    \n",
    "    frames = np.array(frames)  # (T, H, W, C)\n",
    "    frames = np.transpose(frames, (3, 0, 1, 2))  # (C, T, H, W)\n",
    "    frames = frames / 255.0\n",
    "    frames = torch.tensor(frames, dtype=torch.float32)\n",
    "    frames = frames.unsqueeze(0)  # (1, 3, T, H, W)\n",
    "    return frames\n",
    "\n",
    "video_path = 'input_video/tenis.mp4'\n",
    "\n",
    "input_tensor = load_video_frames(video_path, num_frames=8, resize=(224,224))\n",
    "input_tensor = input_tensor.to(device)\n",
    "\n",
    "with torch.no_grad():\n",
    "    pred = model(input_tensor)\n",
    "\n",
    "predicted_class = torch.argmax(pred, dim=1).item()\n",
    "\n",
    "with open('label_map_600.txt', 'r') as f:\n",
    "    class_names = [line.strip() for line in f.readlines()]\n",
    "\n",
    "print(f\"Predicted class index: {predicted_class}, name: {class_names[predicted_class]}\")\n"
   ]
  }
 ],
 "metadata": {
  "kernelspec": {
   "display_name": "timesformer",
   "language": "python",
   "name": "python3"
  },
  "language_info": {
   "codemirror_mode": {
    "name": "ipython",
    "version": 3
   },
   "file_extension": ".py",
   "mimetype": "text/x-python",
   "name": "python",
   "nbconvert_exporter": "python",
   "pygments_lexer": "ipython3",
   "version": "3.12.11"
  }
 },
 "nbformat": 4,
 "nbformat_minor": 5
}
